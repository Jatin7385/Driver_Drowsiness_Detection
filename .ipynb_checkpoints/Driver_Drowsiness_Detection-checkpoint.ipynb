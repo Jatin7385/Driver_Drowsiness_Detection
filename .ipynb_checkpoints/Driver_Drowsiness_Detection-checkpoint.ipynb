{
 "cells": [
  {
   "cell_type": "markdown",
   "id": "3af0f255",
   "metadata": {},
   "source": [
    "# Driver Drowsiness Detection"
   ]
  },
  {
   "cell_type": "markdown",
   "id": "2fd6ebbb",
   "metadata": {},
   "source": [
    "## Importing Libraries"
   ]
  },
  {
   "cell_type": "code",
   "execution_count": 1,
   "id": "07e832ed",
   "metadata": {},
   "outputs": [],
   "source": [
    "import cv2 as cv\n",
    "from keras.models import model_from_json\n",
    "from keras.models import load_model\n",
    "import tensorflow as tf\n",
    "import numpy as np\n",
    "from keras.preprocessing import image\n",
    "from IPython.display import Audio"
   ]
  },
  {
   "cell_type": "markdown",
   "id": "18eee60e",
   "metadata": {},
   "source": [
    "## Loading CNN Model"
   ]
  },
  {
   "cell_type": "code",
   "execution_count": 2,
   "id": "363ffef2",
   "metadata": {},
   "outputs": [
    {
     "name": "stdout",
     "output_type": "stream",
     "text": [
      "Loaded model from disk\n"
     ]
    }
   ],
   "source": [
    "# load json and create model\n",
    "json_file = open('model.json', 'r')\n",
    "loaded_model_json = json_file.read()\n",
    "json_file.close()\n",
    "model = model_from_json(loaded_model_json)\n",
    "# load weights into new model\n",
    "model.load_weights(\"model.h5\")\n",
    "print(\"Loaded model from disk\")"
   ]
  },
  {
   "cell_type": "markdown",
   "id": "d647bcdf",
   "metadata": {},
   "source": [
    "### Face and Eye Detection using Haar Cascade Detection"
   ]
  },
  {
   "cell_type": "code",
   "execution_count": 3,
   "id": "387ee2b0",
   "metadata": {},
   "outputs": [
    {
     "name": "stdout",
     "output_type": "stream",
     "text": [
      "ALERT!!!!\n"
     ]
    },
    {
     "ename": "NameError",
     "evalue": "name 'alert' is not defined",
     "output_type": "error",
     "traceback": [
      "\u001b[1;31m---------------------------------------------------------------------------\u001b[0m",
      "\u001b[1;31mNameError\u001b[0m                                 Traceback (most recent call last)",
      "\u001b[1;32m<ipython-input-3-505768df4585>\u001b[0m in \u001b[0;36m<module>\u001b[1;34m\u001b[0m\n\u001b[0;32m     77\u001b[0m         \u001b[1;32mif\u001b[0m \u001b[0mscore\u001b[0m \u001b[1;33m>=\u001b[0m \u001b[1;36m15\u001b[0m\u001b[1;33m:\u001b[0m\u001b[1;33m\u001b[0m\u001b[1;33m\u001b[0m\u001b[0m\n\u001b[0;32m     78\u001b[0m             \u001b[0mprint\u001b[0m\u001b[1;33m(\u001b[0m\u001b[1;34m\"ALERT!!!!\"\u001b[0m\u001b[1;33m)\u001b[0m\u001b[1;33m\u001b[0m\u001b[1;33m\u001b[0m\u001b[0m\n\u001b[1;32m---> 79\u001b[1;33m             \u001b[0malert\u001b[0m\u001b[1;33m(\u001b[0m\u001b[1;33m)\u001b[0m\u001b[1;33m\u001b[0m\u001b[1;33m\u001b[0m\u001b[0m\n\u001b[0m\u001b[0;32m     80\u001b[0m \u001b[1;33m\u001b[0m\u001b[0m\n\u001b[0;32m     81\u001b[0m \u001b[1;33m\u001b[0m\u001b[0m\n",
      "\u001b[1;31mNameError\u001b[0m: name 'alert' is not defined"
     ]
    }
   ],
   "source": [
    "face_cascade_name = \"haarcascade_frontalface_default.xml\"\n",
    "eyes_cascade_name = \"haarcascade_eye_tree_eyeglasses.xml\"\n",
    "l_eye_cascade_name = \"haarcascade_lefteye_2splits.xml\"\n",
    "r_eye_cascade_name = \"haarcascade_righteye_2splits.xml\"\n",
    "\n",
    "face_cascade = cv.CascadeClassifier(face_cascade_name)\n",
    "eye_cascade = cv.CascadeClassifier(eyes_cascade_name)\n",
    "l_eye_cascade = cv.CascadeClassifier(l_eye_cascade_name)\n",
    "r_eye_cascade = cv.CascadeClassifier(r_eye_cascade_name)\n",
    "#Works with gray scale images. So converting into GrayScale images\n",
    "\n",
    "font = cv.FONT_HERSHEY_COMPLEX_SMALL\n",
    "\n",
    "cap = cv.VideoCapture(0)\n",
    "\n",
    "score = 0\n",
    "\n",
    "\n",
    "while cap.isOpened():\n",
    "    _,  frame = cap.read()\n",
    "    height,width = frame.shape[:2]\n",
    "    gray = cv.cvtColor(frame,cv.COLOR_BGR2GRAY)\n",
    "    faces = face_cascade.detectMultiScale(gray,1.1,4)\n",
    "\n",
    "    for (x,y,w,h) in faces:\n",
    "        roi_color = frame[y:y+h, x:x+w]\n",
    "        roi_gray = gray[y:y+h, x:x+w]\n",
    "        l_eye = l_eye_cascade.detectMultiScale(roi_gray)\n",
    "        r_eye = r_eye_cascade.detectMultiScale(roi_gray)\n",
    "        cv.rectangle(frame, (x,y), (x+w, y+h), (255,0,0), 3)\n",
    "        \n",
    "        rprediction = 0\n",
    "        lprediction = 0\n",
    "        \n",
    "        for (ex,ey,ew,eh) in l_eye:\n",
    "            #Prediction\n",
    "            l_eye_frame = frame[ey:ey+eh,ex:ex+ew]\n",
    "            l_eye_frame = cv.resize(l_eye_frame,(64,64))\n",
    "            l_eye_frame = l_eye_frame.reshape(64,64,-1)\n",
    "            l_eye_frame = image.img_to_array(l_eye_frame)\n",
    "            l_eye_frame = np.expand_dims(l_eye_frame, axis = 0)\n",
    "            result = model.predict(l_eye_frame)\n",
    "                      \n",
    "            cv.rectangle(roi_color, (ex,ey), (ex+ew, ey+eh), (0,255,0), 2)\n",
    "            \n",
    "            if result[0][0] == 0:\n",
    "                lprediction = 0\n",
    "            else:\n",
    "                lprediction = 1\n",
    "            \n",
    "        for (ex,ey,ew,eh) in r_eye:\n",
    "            #Prediction\n",
    "            r_eye_frame = frame[ey:ey+eh,ex:ex+ew]\n",
    "            r_eye_frame = cv.resize(r_eye_frame,(64,64))\n",
    "            r_eye_frame = r_eye_frame.reshape(64,64,-1)\n",
    "            r_eye_frame = image.img_to_array(r_eye_frame)\n",
    "            r_eye_frame = np.expand_dims(r_eye_frame, axis = 0)\n",
    "            result = model.predict(r_eye_frame)\n",
    "            \n",
    "            cv.rectangle(roi_color, (ex,ey), (ex+ew, ey+eh), (0,255,0), 2)\n",
    "            \n",
    "            if result[0][0] == 0:\n",
    "                rprediction = 0\n",
    "            else:\n",
    "                rprediction = 1\n",
    "        \n",
    "        if lprediction == 0 and rprediction == 0:\n",
    "            cv.putText(frame,\"Closed\",(10,height-20), font, 1,(255,255,255),1,cv.LINE_AA)\n",
    "            score += 1\n",
    "        else:\n",
    "            cv.putText(frame,\"Open\",(10,height-20), font, 1,(255,255,255),1,cv.LINE_AA)\n",
    "            score -= 1\n",
    "        \n",
    "        if score<0:\n",
    "            score = 0\n",
    "        cv.putText(frame,'Score:'+str(score),(100,height-20), font, 1,(255,255,255),1,cv.LINE_AA)\n",
    "        if score >= 15:\n",
    "            print(\"ALERT!!!!\")\n",
    "            \n",
    "            \n",
    "            \n",
    "    cv.imshow('img',frame)\n",
    "    if cv.waitKey(1) & 0xFF == ord('q'):\n",
    "        cv.destroyAllWindows()\n",
    "        cap.release()\n",
    "        break"
   ]
  }
 ],
 "metadata": {
  "kernelspec": {
   "display_name": "Python 3",
   "language": "python",
   "name": "python3"
  },
  "language_info": {
   "codemirror_mode": {
    "name": "ipython",
    "version": 3
   },
   "file_extension": ".py",
   "mimetype": "text/x-python",
   "name": "python",
   "nbconvert_exporter": "python",
   "pygments_lexer": "ipython3",
   "version": "3.9.10"
  }
 },
 "nbformat": 4,
 "nbformat_minor": 5
}
