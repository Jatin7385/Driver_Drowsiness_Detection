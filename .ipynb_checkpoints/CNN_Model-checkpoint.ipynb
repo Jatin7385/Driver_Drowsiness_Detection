{
 "cells": [
  {
   "cell_type": "markdown",
   "id": "0f2d1f1e",
   "metadata": {},
   "source": [
    "# CNN Model for Driver Drowsiness Detection"
   ]
  },
  {
   "cell_type": "markdown",
   "id": "e2f292bc",
   "metadata": {},
   "source": [
    "### CNN Model"
   ]
  },
  {
   "cell_type": "markdown",
   "id": "4cb8063a",
   "metadata": {},
   "source": [
    "## Import libraries"
   ]
  },
  {
   "cell_type": "code",
   "execution_count": 2,
   "id": "2c5c7ebe",
   "metadata": {},
   "outputs": [],
   "source": [
    "import tensorflow as tf\n",
    "from keras.preprocessing.image import ImageDataGenerator"
   ]
  },
  {
   "cell_type": "markdown",
   "id": "ffda1868",
   "metadata": {},
   "source": [
    "## Data Preprocessing"
   ]
  },
  {
   "cell_type": "markdown",
   "id": "3d5d6fb5",
   "metadata": {},
   "source": [
    "    ### Preprocessing the training & testing dataset"
   ]
  },
  {
   "cell_type": "code",
   "execution_count": 3,
   "id": "aa702fd7",
   "metadata": {},
   "outputs": [
    {
     "name": "stdout",
     "output_type": "stream",
     "text": [
      "Found 1234 images belonging to 2 classes.\n",
      "Found 218 images belonging to 2 classes.\n"
     ]
    }
   ],
   "source": [
    "train_datagen = ImageDataGenerator(\n",
    "    rescale = 1./255,\n",
    "    shear_range = 0.2,\n",
    "    zoom_range = 0.2,\n",
    "    horizontal_flip = True\n",
    ")\n",
    "\n",
    "train_set = train_datagen.flow_from_directory(\n",
    "    './dataset_new/train/eyes',\n",
    "    target_size = (64,64),\n",
    "    batch_size = 32,\n",
    "    class_mode = 'binary'\n",
    ")\n",
    "\n",
    "test_datagen = ImageDataGenerator(\n",
    "    rescale = 1./255\n",
    ")\n",
    "\n",
    "test_set = test_datagen.flow_from_directory(\n",
    "    './dataset_new/test/eyes',\n",
    "    target_size = (64,64),\n",
    "    batch_size = 32,\n",
    "    class_mode = 'binary'\n",
    ")"
   ]
  },
  {
   "cell_type": "code",
   "execution_count": 4,
   "id": "7125a1e8",
   "metadata": {},
   "outputs": [
    {
     "name": "stdout",
     "output_type": "stream",
     "text": [
      "{'Closed': 0, 'Open': 1}\n"
     ]
    }
   ],
   "source": [
    "print(train_set.class_indices)"
   ]
  },
  {
   "cell_type": "markdown",
   "id": "8c6b085e",
   "metadata": {},
   "source": [
    "## Building the CNN"
   ]
  },
  {
   "cell_type": "markdown",
   "id": "47fdd799",
   "metadata": {},
   "source": [
    "### Initializing the CNN"
   ]
  },
  {
   "cell_type": "code",
   "execution_count": 5,
   "id": "189beeea",
   "metadata": {},
   "outputs": [],
   "source": [
    "cnn = tf.keras.models.Sequential()"
   ]
  },
  {
   "cell_type": "markdown",
   "id": "ae65a18e",
   "metadata": {},
   "source": [
    "### Convolution Operation"
   ]
  },
  {
   "cell_type": "code",
   "execution_count": 6,
   "id": "807f4e97",
   "metadata": {},
   "outputs": [],
   "source": [
    "cnn.add(tf.keras.layers.Conv2D(filters = 32,kernel_size=3,activation = 'relu', input_shape = [64,64,3]))"
   ]
  },
  {
   "cell_type": "markdown",
   "id": "175f5054",
   "metadata": {},
   "source": [
    "### Pooling"
   ]
  },
  {
   "cell_type": "code",
   "execution_count": 7,
   "id": "a2a792b9",
   "metadata": {},
   "outputs": [],
   "source": [
    "cnn.add(tf.keras.layers.MaxPool2D(pool_size = 2, strides = 2))"
   ]
  },
  {
   "cell_type": "markdown",
   "id": "5203b2a3",
   "metadata": {},
   "source": [
    "### Adding a second convolution layer"
   ]
  },
  {
   "cell_type": "code",
   "execution_count": 8,
   "id": "be5fc041",
   "metadata": {},
   "outputs": [],
   "source": [
    "cnn.add(tf.keras.layers.Conv2D(filters = 32, kernel_size = 3, activation = 'relu'))    \n",
    "cnn.add(tf.keras.layers.MaxPool2D(pool_size = 2, strides = 2))"
   ]
  },
  {
   "cell_type": "markdown",
   "id": "c1625788",
   "metadata": {},
   "source": [
    "### Flattening"
   ]
  },
  {
   "cell_type": "code",
   "execution_count": 9,
   "id": "fc6dcfca",
   "metadata": {},
   "outputs": [],
   "source": [
    "cnn.add(tf.keras.layers.Flatten())"
   ]
  },
  {
   "cell_type": "markdown",
   "id": "5894e22a",
   "metadata": {},
   "source": [
    "### Full Connection"
   ]
  },
  {
   "cell_type": "code",
   "execution_count": 10,
   "id": "f842ba0c",
   "metadata": {},
   "outputs": [],
   "source": [
    "cnn.add(tf.keras.layers.Dense(units = 128, activation = 'relu'))"
   ]
  },
  {
   "cell_type": "markdown",
   "id": "2c2b2abe",
   "metadata": {},
   "source": [
    "### Output Layer"
   ]
  },
  {
   "cell_type": "code",
   "execution_count": 11,
   "id": "186cf8a1",
   "metadata": {},
   "outputs": [],
   "source": [
    "cnn.add(tf.keras.layers.Dense(units = 1, activation = 'sigmoid'))"
   ]
  },
  {
   "cell_type": "markdown",
   "id": "14608ef1",
   "metadata": {},
   "source": [
    "### Training the CNN"
   ]
  },
  {
   "cell_type": "code",
   "execution_count": 12,
   "id": "9fb18a3d",
   "metadata": {},
   "outputs": [
    {
     "name": "stdout",
     "output_type": "stream",
     "text": [
      "Epoch 1/25\n",
      "39/39 [==============================] - 11s 260ms/step - loss: 0.4673 - accuracy: 0.7804 - val_loss: 0.1834 - val_accuracy: 0.9358\n",
      "Epoch 2/25\n",
      "39/39 [==============================] - 8s 200ms/step - loss: 0.1711 - accuracy: 0.9335 - val_loss: 0.1567 - val_accuracy: 0.9358\n",
      "Epoch 3/25\n",
      "39/39 [==============================] - 6s 148ms/step - loss: 0.1260 - accuracy: 0.9465 - val_loss: 0.2314 - val_accuracy: 0.9220\n",
      "Epoch 4/25\n",
      "39/39 [==============================] - 12s 316ms/step - loss: 0.1283 - accuracy: 0.9530 - val_loss: 0.1160 - val_accuracy: 0.9587\n",
      "Epoch 5/25\n",
      "39/39 [==============================] - 13s 338ms/step - loss: 0.0757 - accuracy: 0.9749 - val_loss: 0.1396 - val_accuracy: 0.9495\n",
      "Epoch 6/25\n",
      "39/39 [==============================] - 6s 147ms/step - loss: 0.0893 - accuracy: 0.9619 - val_loss: 0.1106 - val_accuracy: 0.9633\n",
      "Epoch 7/25\n",
      "39/39 [==============================] - 7s 174ms/step - loss: 0.0673 - accuracy: 0.9773 - val_loss: 0.1021 - val_accuracy: 0.9587\n",
      "Epoch 8/25\n",
      "39/39 [==============================] - 7s 182ms/step - loss: 0.0561 - accuracy: 0.9814 - val_loss: 0.0983 - val_accuracy: 0.9679\n",
      "Epoch 9/25\n",
      "39/39 [==============================] - 6s 164ms/step - loss: 0.0650 - accuracy: 0.9724 - val_loss: 0.1539 - val_accuracy: 0.9450\n",
      "Epoch 10/25\n",
      "39/39 [==============================] - 7s 168ms/step - loss: 0.0609 - accuracy: 0.9741 - val_loss: 0.1065 - val_accuracy: 0.9771\n",
      "Epoch 11/25\n",
      "39/39 [==============================] - 6s 163ms/step - loss: 0.0426 - accuracy: 0.9830 - val_loss: 0.1259 - val_accuracy: 0.9679\n",
      "Epoch 12/25\n",
      "39/39 [==============================] - 7s 174ms/step - loss: 0.0457 - accuracy: 0.9854 - val_loss: 0.0882 - val_accuracy: 0.9679\n",
      "Epoch 13/25\n",
      "39/39 [==============================] - 7s 175ms/step - loss: 0.0507 - accuracy: 0.9789 - val_loss: 0.1003 - val_accuracy: 0.9725\n",
      "Epoch 14/25\n",
      "39/39 [==============================] - 7s 185ms/step - loss: 0.0398 - accuracy: 0.9838 - val_loss: 0.0805 - val_accuracy: 0.9771\n",
      "Epoch 15/25\n",
      "39/39 [==============================] - 8s 209ms/step - loss: 0.0477 - accuracy: 0.9846 - val_loss: 0.1028 - val_accuracy: 0.9725\n",
      "Epoch 16/25\n",
      "39/39 [==============================] - 11s 296ms/step - loss: 0.0330 - accuracy: 0.9887 - val_loss: 0.1343 - val_accuracy: 0.9725\n",
      "Epoch 17/25\n",
      "39/39 [==============================] - 14s 360ms/step - loss: 0.0433 - accuracy: 0.9854 - val_loss: 0.0804 - val_accuracy: 0.9771\n",
      "Epoch 18/25\n",
      "39/39 [==============================] - 12s 311ms/step - loss: 0.0332 - accuracy: 0.9878 - val_loss: 0.0948 - val_accuracy: 0.9679\n",
      "Epoch 19/25\n",
      "39/39 [==============================] - 10s 249ms/step - loss: 0.0359 - accuracy: 0.9895 - val_loss: 0.0650 - val_accuracy: 0.9817\n",
      "Epoch 20/25\n",
      "39/39 [==============================] - 8s 215ms/step - loss: 0.0314 - accuracy: 0.9903 - val_loss: 0.0996 - val_accuracy: 0.9817\n",
      "Epoch 21/25\n",
      "39/39 [==============================] - 8s 211ms/step - loss: 0.0244 - accuracy: 0.9878 - val_loss: 0.0762 - val_accuracy: 0.9771\n",
      "Epoch 22/25\n",
      "39/39 [==============================] - 18s 461ms/step - loss: 0.0228 - accuracy: 0.9927 - val_loss: 0.0805 - val_accuracy: 0.9771\n",
      "Epoch 23/25\n",
      "39/39 [==============================] - 13s 334ms/step - loss: 0.0309 - accuracy: 0.9903 - val_loss: 0.0821 - val_accuracy: 0.9817\n",
      "Epoch 24/25\n",
      "39/39 [==============================] - 12s 304ms/step - loss: 0.0380 - accuracy: 0.9878 - val_loss: 0.0856 - val_accuracy: 0.9771\n",
      "Epoch 25/25\n",
      "39/39 [==============================] - 11s 273ms/step - loss: 0.0420 - accuracy: 0.9862 - val_loss: 0.0937 - val_accuracy: 0.9725\n"
     ]
    },
    {
     "data": {
      "text/plain": [
       "<keras.callbacks.History at 0x1d00928ec70>"
      ]
     },
     "execution_count": 12,
     "metadata": {},
     "output_type": "execute_result"
    }
   ],
   "source": [
    "cnn.compile(optimizer = 'adam',loss = 'binary_crossentropy', metrics = ['accuracy'])\n",
    "cnn.fit(x = train_set, validation_data = test_set, epochs = 25)"
   ]
  },
  {
   "cell_type": "code",
   "execution_count": 14,
   "id": "sticky-prophet",
   "metadata": {},
   "outputs": [
    {
     "ename": "ValueError",
     "evalue": "`y` argument is not supported when using `keras.utils.Sequence` as input.",
     "output_type": "error",
     "traceback": [
      "\u001b[1;31m---------------------------------------------------------------------------\u001b[0m",
      "\u001b[1;31mValueError\u001b[0m                                Traceback (most recent call last)",
      "\u001b[1;32m<ipython-input-14-d9244c0e9e91>\u001b[0m in \u001b[0;36m<module>\u001b[1;34m\u001b[0m\n\u001b[0;32m      1\u001b[0m \u001b[0mtest_labels\u001b[0m \u001b[1;33m=\u001b[0m \u001b[1;33m[\u001b[0m\u001b[1;34m'Closed'\u001b[0m\u001b[1;33m,\u001b[0m\u001b[1;34m'Open'\u001b[0m\u001b[1;33m]\u001b[0m\u001b[1;33m\u001b[0m\u001b[1;33m\u001b[0m\u001b[0m\n\u001b[1;32m----> 2\u001b[1;33m \u001b[0mtest_loss\u001b[0m\u001b[1;33m,\u001b[0m \u001b[0mtest_acc\u001b[0m \u001b[1;33m=\u001b[0m \u001b[0mcnn\u001b[0m\u001b[1;33m.\u001b[0m\u001b[0mevaluate\u001b[0m\u001b[1;33m(\u001b[0m\u001b[0mtest_set\u001b[0m\u001b[1;33m,\u001b[0m  \u001b[0mtest_labels\u001b[0m\u001b[1;33m,\u001b[0m \u001b[0mverbose\u001b[0m\u001b[1;33m=\u001b[0m\u001b[1;36m2\u001b[0m\u001b[1;33m)\u001b[0m\u001b[1;33m\u001b[0m\u001b[1;33m\u001b[0m\u001b[0m\n\u001b[0m",
      "\u001b[1;32m~\\AppData\\Local\\Packages\\PythonSoftwareFoundation.Python.3.9_qbz5n2kfra8p0\\LocalCache\\local-packages\\Python39\\site-packages\\keras\\utils\\traceback_utils.py\u001b[0m in \u001b[0;36merror_handler\u001b[1;34m(*args, **kwargs)\u001b[0m\n\u001b[0;32m     65\u001b[0m     \u001b[1;32mexcept\u001b[0m \u001b[0mException\u001b[0m \u001b[1;32mas\u001b[0m \u001b[0me\u001b[0m\u001b[1;33m:\u001b[0m  \u001b[1;31m# pylint: disable=broad-except\u001b[0m\u001b[1;33m\u001b[0m\u001b[1;33m\u001b[0m\u001b[0m\n\u001b[0;32m     66\u001b[0m       \u001b[0mfiltered_tb\u001b[0m \u001b[1;33m=\u001b[0m \u001b[0m_process_traceback_frames\u001b[0m\u001b[1;33m(\u001b[0m\u001b[0me\u001b[0m\u001b[1;33m.\u001b[0m\u001b[0m__traceback__\u001b[0m\u001b[1;33m)\u001b[0m\u001b[1;33m\u001b[0m\u001b[1;33m\u001b[0m\u001b[0m\n\u001b[1;32m---> 67\u001b[1;33m       \u001b[1;32mraise\u001b[0m \u001b[0me\u001b[0m\u001b[1;33m.\u001b[0m\u001b[0mwith_traceback\u001b[0m\u001b[1;33m(\u001b[0m\u001b[0mfiltered_tb\u001b[0m\u001b[1;33m)\u001b[0m \u001b[1;32mfrom\u001b[0m \u001b[1;32mNone\u001b[0m\u001b[1;33m\u001b[0m\u001b[1;33m\u001b[0m\u001b[0m\n\u001b[0m\u001b[0;32m     68\u001b[0m     \u001b[1;32mfinally\u001b[0m\u001b[1;33m:\u001b[0m\u001b[1;33m\u001b[0m\u001b[1;33m\u001b[0m\u001b[0m\n\u001b[0;32m     69\u001b[0m       \u001b[1;32mdel\u001b[0m \u001b[0mfiltered_tb\u001b[0m\u001b[1;33m\u001b[0m\u001b[1;33m\u001b[0m\u001b[0m\n",
      "\u001b[1;32m~\\AppData\\Local\\Packages\\PythonSoftwareFoundation.Python.3.9_qbz5n2kfra8p0\\LocalCache\\local-packages\\Python39\\site-packages\\keras\\engine\\data_adapter.py\u001b[0m in \u001b[0;36m__init__\u001b[1;34m(self, x, y, sample_weights, shuffle, workers, use_multiprocessing, max_queue_size, model, **kwargs)\u001b[0m\n\u001b[0;32m    913\u001b[0m                **kwargs):\n\u001b[0;32m    914\u001b[0m     \u001b[1;32mif\u001b[0m \u001b[1;32mnot\u001b[0m \u001b[0mis_none_or_empty\u001b[0m\u001b[1;33m(\u001b[0m\u001b[0my\u001b[0m\u001b[1;33m)\u001b[0m\u001b[1;33m:\u001b[0m\u001b[1;33m\u001b[0m\u001b[1;33m\u001b[0m\u001b[0m\n\u001b[1;32m--> 915\u001b[1;33m       raise ValueError(\"`y` argument is not supported when using \"\n\u001b[0m\u001b[0;32m    916\u001b[0m                        \"`keras.utils.Sequence` as input.\")\n\u001b[0;32m    917\u001b[0m     \u001b[1;32mif\u001b[0m \u001b[1;32mnot\u001b[0m \u001b[0mis_none_or_empty\u001b[0m\u001b[1;33m(\u001b[0m\u001b[0msample_weights\u001b[0m\u001b[1;33m)\u001b[0m\u001b[1;33m:\u001b[0m\u001b[1;33m\u001b[0m\u001b[1;33m\u001b[0m\u001b[0m\n",
      "\u001b[1;31mValueError\u001b[0m: `y` argument is not supported when using `keras.utils.Sequence` as input."
     ]
    }
   ],
   "source": [
    "test_labels = ['Closed','Open']\n",
    "test_loss, test_acc = cnn.evaluate(test_set, verbose=2)"
   ]
  },
  {
   "cell_type": "code",
   "execution_count": null,
   "id": "simple-environment",
   "metadata": {},
   "outputs": [],
   "source": [
    "print(test_acc)\n",
    "print(test_loss)"
   ]
  },
  {
   "cell_type": "markdown",
   "id": "37de5a15",
   "metadata": {},
   "source": [
    "### Saving CNN model"
   ]
  },
  {
   "cell_type": "code",
   "execution_count": null,
   "id": "a75ba447",
   "metadata": {},
   "outputs": [],
   "source": [
    "# serialize model to JSON\n",
    "model_json = cnn.to_json()\n",
    "with open(\"model.json\", \"w\") as json_file:\n",
    "    json_file.write(model_json)\n",
    "# serialize weights to HDF5\n",
    "cnn.save_weights(\"model.h5\")\n",
    "print(\"Saved model to disk\")"
   ]
  },
  {
   "cell_type": "code",
   "execution_count": null,
   "id": "competent-garage",
   "metadata": {},
   "outputs": [],
   "source": [
    "path = \"./dataset_new/train/\""
   ]
  }
 ],
 "metadata": {
  "kernelspec": {
   "display_name": "Python 3",
   "language": "python",
   "name": "python3"
  },
  "language_info": {
   "codemirror_mode": {
    "name": "ipython",
    "version": 3
   },
   "file_extension": ".py",
   "mimetype": "text/x-python",
   "name": "python",
   "nbconvert_exporter": "python",
   "pygments_lexer": "ipython3",
   "version": "3.9.12"
  }
 },
 "nbformat": 4,
 "nbformat_minor": 5
}
