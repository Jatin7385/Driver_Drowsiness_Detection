{
 "cells": [
  {
   "cell_type": "markdown",
   "id": "0f2d1f1e",
   "metadata": {},
   "source": [
    "# CNN Model for Driver Drowsiness Detection"
   ]
  },
  {
   "cell_type": "markdown",
   "id": "e2f292bc",
   "metadata": {},
   "source": [
    "### CNN Model"
   ]
  },
  {
   "cell_type": "markdown",
   "id": "4cb8063a",
   "metadata": {},
   "source": [
    "## Import libraries"
   ]
  },
  {
   "cell_type": "code",
   "execution_count": 12,
   "id": "2c5c7ebe",
   "metadata": {},
   "outputs": [],
   "source": [
    "import tensorflow as tf\n",
    "from keras.preprocessing.image import ImageDataGenerator"
   ]
  },
  {
   "cell_type": "markdown",
   "id": "ffda1868",
   "metadata": {},
   "source": [
    "## Data Preprocessing"
   ]
  },
  {
   "cell_type": "markdown",
   "id": "3d5d6fb5",
   "metadata": {},
   "source": [
    "    ### Preprocessing the training & testing dataset"
   ]
  },
  {
   "cell_type": "code",
   "execution_count": 13,
   "id": "aa702fd7",
   "metadata": {},
   "outputs": [
    {
     "name": "stdout",
     "output_type": "stream",
     "text": [
      "Found 1234 images belonging to 2 classes.\n",
      "Found 218 images belonging to 2 classes.\n"
     ]
    }
   ],
   "source": [
    "train_datagen = ImageDataGenerator(\n",
    "    rescale = 1./255,\n",
    "    shear_range = 0.2,\n",
    "    zoom_range = 0.2,\n",
    "    horizontal_flip = True\n",
    ")\n",
    "\n",
    "train_set = train_datagen.flow_from_directory(\n",
    "    './dataset_new/train/eyes',\n",
    "    target_size = (64,64),\n",
    "    batch_size = 32,\n",
    "    class_mode = 'binary'\n",
    ")\n",
    "\n",
    "test_datagen = ImageDataGenerator(\n",
    "    rescale = 1./255\n",
    ")\n",
    "\n",
    "test_set = test_datagen.flow_from_directory(\n",
    "    './dataset_new/test/eyes',\n",
    "    target_size = (64,64),\n",
    "    batch_size = 32,\n",
    "    class_mode = 'binary'\n",
    ")"
   ]
  },
  {
   "cell_type": "code",
   "execution_count": 14,
   "id": "7125a1e8",
   "metadata": {},
   "outputs": [
    {
     "name": "stdout",
     "output_type": "stream",
     "text": [
      "{'Closed': 0, 'Open': 1}\n"
     ]
    }
   ],
   "source": [
    "print(train_set.class_indices)"
   ]
  },
  {
   "cell_type": "markdown",
   "id": "8c6b085e",
   "metadata": {},
   "source": [
    "## Building the CNN"
   ]
  },
  {
   "cell_type": "markdown",
   "id": "47fdd799",
   "metadata": {},
   "source": [
    "### Initializing the CNN"
   ]
  },
  {
   "cell_type": "code",
   "execution_count": 15,
   "id": "189beeea",
   "metadata": {},
   "outputs": [],
   "source": [
    "cnn = tf.keras.models.Sequential()"
   ]
  },
  {
   "cell_type": "markdown",
   "id": "ae65a18e",
   "metadata": {},
   "source": [
    "### Convolution Operation"
   ]
  },
  {
   "cell_type": "code",
   "execution_count": 16,
   "id": "807f4e97",
   "metadata": {},
   "outputs": [],
   "source": [
    "cnn.add(tf.keras.layers.Conv2D(filters = 32,kernel_size=3,activation = 'relu', input_shape = [64,64,3]))"
   ]
  },
  {
   "cell_type": "markdown",
   "id": "175f5054",
   "metadata": {},
   "source": [
    "### Pooling"
   ]
  },
  {
   "cell_type": "code",
   "execution_count": 17,
   "id": "a2a792b9",
   "metadata": {},
   "outputs": [],
   "source": [
    "cnn.add(tf.keras.layers.MaxPool2D(pool_size = 2, strides = 2))"
   ]
  },
  {
   "cell_type": "markdown",
   "id": "5203b2a3",
   "metadata": {},
   "source": [
    "### Adding a second convolution layer"
   ]
  },
  {
   "cell_type": "code",
   "execution_count": 18,
   "id": "be5fc041",
   "metadata": {},
   "outputs": [],
   "source": [
    "cnn.add(tf.keras.layers.Conv2D(filters = 32, kernel_size = 3, activation = 'relu'))    \n",
    "cnn.add(tf.keras.layers.MaxPool2D(pool_size = 2, strides = 2))"
   ]
  },
  {
   "cell_type": "markdown",
   "id": "c1625788",
   "metadata": {},
   "source": [
    "### Flattening"
   ]
  },
  {
   "cell_type": "code",
   "execution_count": 19,
   "id": "fc6dcfca",
   "metadata": {},
   "outputs": [],
   "source": [
    "cnn.add(tf.keras.layers.Flatten())"
   ]
  },
  {
   "cell_type": "markdown",
   "id": "5894e22a",
   "metadata": {},
   "source": [
    "### Full Connection"
   ]
  },
  {
   "cell_type": "code",
   "execution_count": 20,
   "id": "f842ba0c",
   "metadata": {},
   "outputs": [],
   "source": [
    "cnn.add(tf.keras.layers.Dense(units = 128, activation = 'relu'))"
   ]
  },
  {
   "cell_type": "markdown",
   "id": "2c2b2abe",
   "metadata": {},
   "source": [
    "### Output Layer"
   ]
  },
  {
   "cell_type": "code",
   "execution_count": 21,
   "id": "186cf8a1",
   "metadata": {},
   "outputs": [],
   "source": [
    "cnn.add(tf.keras.layers.Dense(units = 1, activation = 'sigmoid'))"
   ]
  },
  {
   "cell_type": "markdown",
   "id": "14608ef1",
   "metadata": {},
   "source": [
    "### Training the CNN"
   ]
  },
  {
   "cell_type": "code",
   "execution_count": 22,
   "id": "9fb18a3d",
   "metadata": {},
   "outputs": [
    {
     "name": "stdout",
     "output_type": "stream",
     "text": [
      "Epoch 1/25\n",
      "39/39 [==============================] - 17s 391ms/step - loss: 0.4329 - accuracy: 0.8363 - val_loss: 0.1725 - val_accuracy: 0.9358\n",
      "Epoch 2/25\n",
      "39/39 [==============================] - 14s 366ms/step - loss: 0.1810 - accuracy: 0.9400 - val_loss: 0.1559 - val_accuracy: 0.9450\n",
      "Epoch 3/25\n",
      "39/39 [==============================] - 15s 395ms/step - loss: 0.1231 - accuracy: 0.9595 - val_loss: 0.1371 - val_accuracy: 0.9541\n",
      "Epoch 4/25\n",
      "39/39 [==============================] - 15s 384ms/step - loss: 0.0970 - accuracy: 0.9660 - val_loss: 0.1300 - val_accuracy: 0.9587\n",
      "Epoch 5/25\n",
      "39/39 [==============================] - 15s 383ms/step - loss: 0.0810 - accuracy: 0.9733 - val_loss: 0.1036 - val_accuracy: 0.9541\n",
      "Epoch 6/25\n",
      "39/39 [==============================] - 15s 388ms/step - loss: 0.0711 - accuracy: 0.9716 - val_loss: 0.0979 - val_accuracy: 0.9587\n",
      "Epoch 7/25\n",
      "39/39 [==============================] - 14s 354ms/step - loss: 0.0623 - accuracy: 0.9781 - val_loss: 0.1060 - val_accuracy: 0.9450\n",
      "Epoch 8/25\n",
      "39/39 [==============================] - 14s 354ms/step - loss: 0.0663 - accuracy: 0.9797 - val_loss: 0.1084 - val_accuracy: 0.9587\n",
      "Epoch 9/25\n",
      "39/39 [==============================] - 15s 385ms/step - loss: 0.0788 - accuracy: 0.9749 - val_loss: 0.1211 - val_accuracy: 0.9633\n",
      "Epoch 10/25\n",
      "39/39 [==============================] - 14s 366ms/step - loss: 0.0753 - accuracy: 0.9724 - val_loss: 0.1013 - val_accuracy: 0.9587\n",
      "Epoch 11/25\n",
      "39/39 [==============================] - 14s 352ms/step - loss: 0.0531 - accuracy: 0.9814 - val_loss: 0.0935 - val_accuracy: 0.9771\n",
      "Epoch 12/25\n",
      "39/39 [==============================] - 14s 354ms/step - loss: 0.0449 - accuracy: 0.9846 - val_loss: 0.0993 - val_accuracy: 0.9450\n",
      "Epoch 13/25\n",
      "39/39 [==============================] - 17s 431ms/step - loss: 0.0492 - accuracy: 0.9838 - val_loss: 0.0754 - val_accuracy: 0.9633\n",
      "Epoch 14/25\n",
      "39/39 [==============================] - 14s 345ms/step - loss: 0.0469 - accuracy: 0.9814 - val_loss: 0.0966 - val_accuracy: 0.9725\n",
      "Epoch 15/25\n",
      "39/39 [==============================] - 13s 323ms/step - loss: 0.0545 - accuracy: 0.9765 - val_loss: 0.0892 - val_accuracy: 0.9679\n",
      "Epoch 16/25\n",
      "39/39 [==============================] - 12s 310ms/step - loss: 0.0510 - accuracy: 0.9789 - val_loss: 0.0832 - val_accuracy: 0.9541\n",
      "Epoch 17/25\n",
      "39/39 [==============================] - 12s 315ms/step - loss: 0.0348 - accuracy: 0.9862 - val_loss: 0.1373 - val_accuracy: 0.9541\n",
      "Epoch 18/25\n",
      "39/39 [==============================] - 14s 355ms/step - loss: 0.0430 - accuracy: 0.9854 - val_loss: 0.0842 - val_accuracy: 0.9587\n",
      "Epoch 19/25\n",
      "39/39 [==============================] - 16s 402ms/step - loss: 0.0512 - accuracy: 0.9773 - val_loss: 0.0635 - val_accuracy: 0.9725\n",
      "Epoch 20/25\n",
      "39/39 [==============================] - 13s 342ms/step - loss: 0.0358 - accuracy: 0.9887 - val_loss: 0.0673 - val_accuracy: 0.9725\n",
      "Epoch 21/25\n",
      "39/39 [==============================] - 13s 327ms/step - loss: 0.0283 - accuracy: 0.9903 - val_loss: 0.0526 - val_accuracy: 0.9771\n",
      "Epoch 22/25\n",
      "39/39 [==============================] - 13s 331ms/step - loss: 0.0270 - accuracy: 0.9911 - val_loss: 0.0775 - val_accuracy: 0.9633\n",
      "Epoch 23/25\n",
      "39/39 [==============================] - 14s 369ms/step - loss: 0.0379 - accuracy: 0.9854 - val_loss: 0.0535 - val_accuracy: 0.9771\n",
      "Epoch 24/25\n",
      "39/39 [==============================] - 13s 337ms/step - loss: 0.0201 - accuracy: 0.9895 - val_loss: 0.0681 - val_accuracy: 0.9633\n",
      "Epoch 25/25\n",
      "39/39 [==============================] - 13s 321ms/step - loss: 0.0192 - accuracy: 0.9927 - val_loss: 0.0644 - val_accuracy: 0.9771\n"
     ]
    },
    {
     "data": {
      "text/plain": [
       "<keras.callbacks.History at 0x2a3d9eb2e50>"
      ]
     },
     "execution_count": 22,
     "metadata": {},
     "output_type": "execute_result"
    }
   ],
   "source": [
    "cnn.compile(optimizer = 'adam',loss = 'binary_crossentropy', metrics = ['accuracy'])\n",
    "cnn.fit(x = train_set, validation_data = test_set, epochs = 25)"
   ]
  },
  {
   "cell_type": "markdown",
   "id": "37de5a15",
   "metadata": {},
   "source": [
    "### Saving CNN model"
   ]
  },
  {
   "cell_type": "code",
   "execution_count": 23,
   "id": "a75ba447",
   "metadata": {},
   "outputs": [
    {
     "name": "stdout",
     "output_type": "stream",
     "text": [
      "Saved model to disk\n"
     ]
    }
   ],
   "source": [
    "# serialize model to JSON\n",
    "model_json = cnn.to_json()\n",
    "with open(\"model.json\", \"w\") as json_file:\n",
    "    json_file.write(model_json)\n",
    "# serialize weights to HDF5\n",
    "cnn.save_weights(\"model.h5\")\n",
    "print(\"Saved model to disk\")"
   ]
  }
 ],
 "metadata": {
  "kernelspec": {
   "display_name": "Python 3",
   "language": "python",
   "name": "python3"
  },
  "language_info": {
   "codemirror_mode": {
    "name": "ipython",
    "version": 3
   },
   "file_extension": ".py",
   "mimetype": "text/x-python",
   "name": "python",
   "nbconvert_exporter": "python",
   "pygments_lexer": "ipython3",
   "version": "3.9.10"
  }
 },
 "nbformat": 4,
 "nbformat_minor": 5
}
