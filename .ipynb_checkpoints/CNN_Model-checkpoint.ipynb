{
 "cells": [
  {
   "cell_type": "markdown",
   "id": "0f2d1f1e",
   "metadata": {},
   "source": [
    "# Driver Drowsiness Detection"
   ]
  },
  {
   "cell_type": "markdown",
   "id": "cb7e18df",
   "metadata": {},
   "source": [
    "### Importing libraries"
   ]
  },
  {
   "cell_type": "code",
   "execution_count": 3,
   "id": "482215ae",
   "metadata": {},
   "outputs": [],
   "source": [
    "import cv2 as cv"
   ]
  },
  {
   "cell_type": "markdown",
   "id": "9fafce58",
   "metadata": {},
   "source": [
    "### Face and Eye Detection using Haar Cascade Detection"
   ]
  },
  {
   "cell_type": "code",
   "execution_count": 5,
   "id": "b032e88b",
   "metadata": {},
   "outputs": [],
   "source": [
    "face_cascade_name = \"haarcascade_frontalface_default.xml\"\n",
    "eyes_cascade_name = \"haarcascade_eye_tree_eyeglasses.xml\"\n",
    "l_eye_cascade_name = \"haarcascade_lefteye_2splits.xml\"\n",
    "r_eye_cascade_name = \"haarcascade_righteye_2splits.xml\"\n",
    "\n",
    "face_cascade = cv.CascadeClassifier(face_cascade_name)\n",
    "eye_cascade = cv.CascadeClassifier(eyes_cascade_name)\n",
    "l_eye_cascade = cv.CascadeClassifier(l_eye_cascade_name)\n",
    "r_eye_cascade = cv.CascadeClassifier(r_eye_cascade_name)\n",
    "#Works with gray scale images. So converting into GrayScale images\n",
    "\n",
    "\n",
    "cap = cv.VideoCapture(0)\n",
    "\n",
    "while cap.isOpened():\n",
    "    _,  frame = cap.read()\n",
    "    \n",
    "    gray = cv.cvtColor(frame,cv.COLOR_BGR2GRAY)\n",
    "    faces = face_cascade.detectMultiScale(gray,1.1,4)\n",
    "\n",
    "    for (x,y,w,h) in faces:\n",
    "        roi_color = frame[y:y+h, x:x+w]\n",
    "        roi_gray = gray[y:y+h, x:x+w]\n",
    "#         eyes = eye_cascade.detectMultiScale(roi_gray)\n",
    "        l_eye = l_eye_cascade.detectMultiScale(roi_gray)\n",
    "        r_eye = r_eye_cascade.detectMultiScale(roi_gray)\n",
    "        cv.rectangle(frame, (x,y), (x+w, y+h), (255,0,0), 3)\n",
    "        \n",
    "        for (ex,ey,ew,eh) in l_eye:\n",
    "            cv.rectangle(roi_color, (ex,ey), (ex+ew, ey+eh), (0,255,0), 2)\n",
    "            \n",
    "        for (ex,ey,ew,eh) in r_eye:\n",
    "            cv.rectangle(roi_color, (ex,ey), (ex+ew, ey+eh), (0,255,0), 2)\n",
    "            \n",
    "            \n",
    "    cv.imshow('img',frame)\n",
    "    if cv.waitKey(1) & 0xFF == ord('q'):\n",
    "        break\n",
    "    \n",
    "    \n",
    "cap.release()"
   ]
  },
  {
   "cell_type": "markdown",
   "id": "de9de028",
   "metadata": {},
   "source": [
    "### CNN Model"
   ]
  },
  {
   "cell_type": "markdown",
   "id": "b9eb3dc3",
   "metadata": {},
   "source": [
    "## Import libraries"
   ]
  },
  {
   "cell_type": "code",
   "execution_count": 7,
   "id": "e7853627",
   "metadata": {},
   "outputs": [],
   "source": [
    "import tensorflow as tf\n",
    "from keras.preprocessing.image import ImageDataGenerator"
   ]
  },
  {
   "cell_type": "markdown",
   "id": "80449b26",
   "metadata": {},
   "source": [
    "## Data Preprocessing"
   ]
  },
  {
   "cell_type": "markdown",
   "id": "d3468c36",
   "metadata": {},
   "source": [
    "    ### Preprocessing the training dataset"
   ]
  },
  {
   "cell_type": "code",
   "execution_count": null,
   "id": "8668e1eb",
   "metadata": {},
   "outputs": [],
   "source": [
    "train_datagen = ImageDataGenerator(\n",
    "    rescale = 1./255,\n",
    "    shear_range = 0.2,\n",
    "    zoom_range = 0.2,\n",
    "    horizontal_flip = True\n",
    ")\n",
    "\n",
    "train_set = train_datagen.flow_from_directory(\n",
    "    './dataset_new/train/eyes',\n",
    "    target_size = (64,64),\n",
    "    batch_size = 32,\n",
    "    class_mode = 'binary'\n",
    ")"
   ]
  }
 ],
 "metadata": {
  "kernelspec": {
   "display_name": "Python 3",
   "language": "python",
   "name": "python3"
  },
  "language_info": {
   "codemirror_mode": {
    "name": "ipython",
    "version": 3
   },
   "file_extension": ".py",
   "mimetype": "text/x-python",
   "name": "python",
   "nbconvert_exporter": "python",
   "pygments_lexer": "ipython3",
   "version": "3.8.8"
  }
 },
 "nbformat": 4,
 "nbformat_minor": 5
}
