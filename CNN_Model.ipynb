{
 "cells": [
  {
   "cell_type": "markdown",
   "id": "0f2d1f1e",
   "metadata": {},
   "source": [
    "# CNN Model for Driver Drowsiness Detection"
   ]
  },
  {
   "cell_type": "markdown",
   "id": "e2f292bc",
   "metadata": {},
   "source": [
    "### CNN Model"
   ]
  },
  {
   "cell_type": "markdown",
   "id": "4cb8063a",
   "metadata": {},
   "source": [
    "## Import libraries"
   ]
  },
  {
   "cell_type": "code",
   "execution_count": 12,
   "id": "2c5c7ebe",
   "metadata": {},
   "outputs": [],
   "source": [
    "import tensorflow as tf\n",
    "from keras.preprocessing.image import ImageDataGenerator"
   ]
  },
  {
   "cell_type": "markdown",
   "id": "ffda1868",
   "metadata": {},
   "source": [
    "## Data Preprocessing"
   ]
  },
  {
   "cell_type": "markdown",
   "id": "3d5d6fb5",
   "metadata": {},
   "source": [
    "    ### Preprocessing the training & testing dataset"
   ]
  },
  {
   "cell_type": "code",
   "execution_count": 13,
   "id": "aa702fd7",
   "metadata": {},
   "outputs": [
    {
     "name": "stdout",
     "output_type": "stream",
     "text": [
      "Found 1234 images belonging to 2 classes.\n",
      "Found 218 images belonging to 2 classes.\n"
     ]
    }
   ],
   "source": [
    "train_datagen = ImageDataGenerator(\n",
    "    rescale = 1./255,\n",
    "    shear_range = 0.2,\n",
    "    zoom_range = 0.2,\n",
    "    horizontal_flip = True\n",
    ")\n",
    "\n",
    "train_set = train_datagen.flow_from_directory(\n",
    "    './dataset_new/train/eyes',\n",
    "    target_size = (64,64),\n",
    "    batch_size = 32,\n",
    "    class_mode = 'binary'\n",
    ")\n",
    "\n",
    "test_datagen = ImageDataGenerator(\n",
    "    rescale = 1./255\n",
    ")\n",
    "\n",
    "test_set = test_datagen.flow_from_directory(\n",
    "    './dataset_new/test/eyes',\n",
    "    target_size = (64,64),\n",
    "    batch_size = 32,\n",
    "    class_mode = 'binary'\n",
    ")"
   ]
  },
  {
   "cell_type": "code",
   "execution_count": 14,
   "id": "7125a1e8",
   "metadata": {},
   "outputs": [
    {
     "name": "stdout",
     "output_type": "stream",
     "text": [
      "{'Closed': 0, 'Open': 1}\n"
     ]
    }
   ],
   "source": [
    "print(train_set.class_indices)"
   ]
  },
  {
   "cell_type": "markdown",
   "id": "8c6b085e",
   "metadata": {},
   "source": [
    "## Building the CNN"
   ]
  },
  {
   "cell_type": "markdown",
   "id": "47fdd799",
   "metadata": {},
   "source": [
    "### Initializing the CNN"
   ]
  },
  {
   "cell_type": "code",
   "execution_count": 15,
   "id": "189beeea",
   "metadata": {},
   "outputs": [],
   "source": [
    "cnn = tf.keras.models.Sequential()"
   ]
  },
  {
   "cell_type": "markdown",
   "id": "ae65a18e",
   "metadata": {},
   "source": [
    "### Convolution Operation"
   ]
  },
  {
   "cell_type": "code",
   "execution_count": 16,
   "id": "807f4e97",
   "metadata": {},
   "outputs": [],
   "source": [
    "cnn.add(tf.keras.layers.Conv2D(filters = 32,kernel_size=3,activation = 'relu', input_shape = [64,64,3]))"
   ]
  },
  {
   "cell_type": "markdown",
   "id": "175f5054",
   "metadata": {},
   "source": [
    "### Pooling"
   ]
  },
  {
   "cell_type": "code",
   "execution_count": 17,
   "id": "a2a792b9",
   "metadata": {},
   "outputs": [],
   "source": [
    "cnn.add(tf.keras.layers.MaxPool2D(pool_size = 2, strides = 2))"
   ]
  },
  {
   "cell_type": "markdown",
   "id": "5203b2a3",
   "metadata": {},
   "source": [
    "### Adding a second convolution layer"
   ]
  },
  {
   "cell_type": "code",
   "execution_count": 18,
   "id": "be5fc041",
   "metadata": {},
   "outputs": [],
   "source": [
    "cnn.add(tf.keras.layers.Conv2D(filters = 32, kernel_size = 3, activation = 'relu'))    \n",
    "cnn.add(tf.keras.layers.MaxPool2D(pool_size = 2, strides = 2))"
   ]
  },
  {
   "cell_type": "markdown",
   "id": "c1625788",
   "metadata": {},
   "source": [
    "### Flattening"
   ]
  },
  {
   "cell_type": "code",
   "execution_count": 19,
   "id": "fc6dcfca",
   "metadata": {},
   "outputs": [],
   "source": [
    "cnn.add(tf.keras.layers.Flatten())"
   ]
  },
  {
   "cell_type": "markdown",
   "id": "5894e22a",
   "metadata": {},
   "source": [
    "### Full Connection"
   ]
  },
  {
   "cell_type": "code",
   "execution_count": 20,
   "id": "f842ba0c",
   "metadata": {},
   "outputs": [],
   "source": [
    "cnn.add(tf.keras.layers.Dense(units = 128, activation = 'relu'))"
   ]
  },
  {
   "cell_type": "markdown",
   "id": "2c2b2abe",
   "metadata": {},
   "source": [
    "### Output Layer"
   ]
  },
  {
   "cell_type": "code",
   "execution_count": 21,
   "id": "186cf8a1",
   "metadata": {},
   "outputs": [],
   "source": [
    "cnn.add(tf.keras.layers.Dense(units = 1, activation = 'sigmoid'))"
   ]
  },
  {
   "cell_type": "markdown",
   "id": "14608ef1",
   "metadata": {},
   "source": [
    "### Training the CNN"
   ]
  },
  {
   "cell_type": "code",
   "execution_count": 22,
   "id": "9fb18a3d",
   "metadata": {},
   "outputs": [
    {
     "name": "stdout",
     "output_type": "stream",
     "text": [
      "Epoch 1/25\n",
      "39/39 [==============================] - 8s 199ms/step - loss: 0.5970 - accuracy: 0.7075 - val_loss: 0.2634 - val_accuracy: 0.9220\n",
      "Epoch 2/25\n",
      "39/39 [==============================] - 10s 258ms/step - loss: 0.2003 - accuracy: 0.9271 - val_loss: 0.1486 - val_accuracy: 0.9450\n",
      "Epoch 3/25\n",
      "39/39 [==============================] - 10s 264ms/step - loss: 0.1352 - accuracy: 0.9465 - val_loss: 0.1275 - val_accuracy: 0.9495\n",
      "Epoch 4/25\n",
      "39/39 [==============================] - 11s 274ms/step - loss: 0.1027 - accuracy: 0.9635 - val_loss: 0.1380 - val_accuracy: 0.9495\n",
      "Epoch 5/25\n",
      "39/39 [==============================] - 11s 273ms/step - loss: 0.0737 - accuracy: 0.9741 - val_loss: 0.1520 - val_accuracy: 0.9404\n",
      "Epoch 6/25\n",
      "39/39 [==============================] - 12s 313ms/step - loss: 0.0953 - accuracy: 0.9668 - val_loss: 0.1202 - val_accuracy: 0.9450\n",
      "Epoch 7/25\n",
      "39/39 [==============================] - 9s 243ms/step - loss: 0.0720 - accuracy: 0.9765 - val_loss: 0.1675 - val_accuracy: 0.9587\n",
      "Epoch 8/25\n",
      "39/39 [==============================] - 9s 243ms/step - loss: 0.0786 - accuracy: 0.9700 - val_loss: 0.1135 - val_accuracy: 0.9495\n",
      "Epoch 9/25\n",
      "39/39 [==============================] - 10s 263ms/step - loss: 0.0614 - accuracy: 0.9757 - val_loss: 0.1230 - val_accuracy: 0.9495\n",
      "Epoch 10/25\n",
      "39/39 [==============================] - 13s 325ms/step - loss: 0.0663 - accuracy: 0.9692 - val_loss: 0.1093 - val_accuracy: 0.9541\n",
      "Epoch 11/25\n",
      "39/39 [==============================] - 11s 273ms/step - loss: 0.0654 - accuracy: 0.9757 - val_loss: 0.1035 - val_accuracy: 0.9633\n",
      "Epoch 12/25\n",
      "39/39 [==============================] - 10s 268ms/step - loss: 0.0522 - accuracy: 0.9806 - val_loss: 0.1153 - val_accuracy: 0.9587\n",
      "Epoch 13/25\n",
      "39/39 [==============================] - 12s 293ms/step - loss: 0.0543 - accuracy: 0.9797 - val_loss: 0.1141 - val_accuracy: 0.9587\n",
      "Epoch 14/25\n",
      "39/39 [==============================] - 10s 260ms/step - loss: 0.0543 - accuracy: 0.9773 - val_loss: 0.1156 - val_accuracy: 0.9633\n",
      "Epoch 15/25\n",
      "39/39 [==============================] - 18s 467ms/step - loss: 0.0361 - accuracy: 0.9878 - val_loss: 0.1227 - val_accuracy: 0.9587\n",
      "Epoch 16/25\n",
      "39/39 [==============================] - 13s 328ms/step - loss: 0.0542 - accuracy: 0.9781 - val_loss: 0.0919 - val_accuracy: 0.9771\n",
      "Epoch 17/25\n",
      "39/39 [==============================] - 8s 208ms/step - loss: 0.0513 - accuracy: 0.9846 - val_loss: 0.0815 - val_accuracy: 0.9725\n",
      "Epoch 18/25\n",
      "39/39 [==============================] - 9s 219ms/step - loss: 0.0387 - accuracy: 0.9830 - val_loss: 0.0872 - val_accuracy: 0.9633\n",
      "Epoch 19/25\n",
      "39/39 [==============================] - 8s 206ms/step - loss: 0.0308 - accuracy: 0.9870 - val_loss: 0.1360 - val_accuracy: 0.9541\n",
      "Epoch 20/25\n",
      "39/39 [==============================] - 9s 238ms/step - loss: 0.0394 - accuracy: 0.9862 - val_loss: 0.1079 - val_accuracy: 0.9633\n",
      "Epoch 21/25\n",
      "39/39 [==============================] - 11s 291ms/step - loss: 0.0437 - accuracy: 0.9846 - val_loss: 0.0778 - val_accuracy: 0.9725\n",
      "Epoch 22/25\n",
      "39/39 [==============================] - 13s 324ms/step - loss: 0.0302 - accuracy: 0.9903 - val_loss: 0.0753 - val_accuracy: 0.9725\n",
      "Epoch 23/25\n",
      "39/39 [==============================] - 10s 251ms/step - loss: 0.0253 - accuracy: 0.9895 - val_loss: 0.0623 - val_accuracy: 0.9817\n",
      "Epoch 24/25\n",
      "39/39 [==============================] - 11s 272ms/step - loss: 0.0435 - accuracy: 0.9862 - val_loss: 0.0689 - val_accuracy: 0.9817\n",
      "Epoch 25/25\n",
      "39/39 [==============================] - 11s 289ms/step - loss: 0.0323 - accuracy: 0.9878 - val_loss: 0.0928 - val_accuracy: 0.9725\n"
     ]
    },
    {
     "data": {
      "text/plain": [
       "<keras.callbacks.History at 0x24ff6335970>"
      ]
     },
     "execution_count": 22,
     "metadata": {},
     "output_type": "execute_result"
    }
   ],
   "source": [
    "cnn.compile(optimizer = 'adam',loss = 'binary_crossentropy', metrics = ['accuracy'])\n",
    "cnn.fit(x = train_set, validation_data = test_set, epochs = 25)"
   ]
  },
  {
   "cell_type": "markdown",
   "id": "37de5a15",
   "metadata": {},
   "source": [
    "### Saving CNN model"
   ]
  },
  {
   "cell_type": "code",
   "execution_count": 23,
   "id": "a75ba447",
   "metadata": {},
   "outputs": [
    {
     "name": "stdout",
     "output_type": "stream",
     "text": [
      "Saved model to disk\n"
     ]
    }
   ],
   "source": [
    "# serialize model to JSON\n",
    "model_json = cnn.to_json()\n",
    "with open(\"model.json\", \"w\") as json_file:\n",
    "    json_file.write(model_json)\n",
    "# serialize weights to HDF5\n",
    "cnn.save_weights(\"model.h5\")\n",
    "print(\"Saved model to disk\")"
   ]
  },
  {
   "cell_type": "code",
   "execution_count": null,
   "id": "competent-garage",
   "metadata": {},
   "outputs": [],
   "source": [
    "path = \"./dataset_new/train/\""
   ]
  }
 ],
 "metadata": {
  "kernelspec": {
   "display_name": "Python 3",
   "language": "python",
   "name": "python3"
  },
  "language_info": {
   "codemirror_mode": {
    "name": "ipython",
    "version": 3
   },
   "file_extension": ".py",
   "mimetype": "text/x-python",
   "name": "python",
   "nbconvert_exporter": "python",
   "pygments_lexer": "ipython3",
   "version": "3.9.10"
  }
 },
 "nbformat": 4,
 "nbformat_minor": 5
}
