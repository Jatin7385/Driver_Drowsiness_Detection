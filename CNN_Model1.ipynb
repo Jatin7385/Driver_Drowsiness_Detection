{
 "cells": [
  {
   "cell_type": "markdown",
   "id": "0f2d1f1e",
   "metadata": {},
   "source": [
    "# CNN Model for Driver Drowsiness Detection"
   ]
  },
  {
   "cell_type": "markdown",
   "id": "e2f292bc",
   "metadata": {},
   "source": [
    "### CNN Model"
   ]
  },
  {
   "cell_type": "markdown",
   "id": "fitted-billy",
   "metadata": {},
   "source": [
    "### Regularization, Batch Normalization pending"
   ]
  },
  {
   "cell_type": "markdown",
   "id": "4cb8063a",
   "metadata": {},
   "source": [
    "## Import libraries"
   ]
  },
  {
   "cell_type": "code",
   "execution_count": 19,
   "id": "2c5c7ebe",
   "metadata": {
    "scrolled": true
   },
   "outputs": [],
   "source": [
    "import tensorflow as tf\n",
    "from keras.preprocessing.image import ImageDataGenerator\n",
    "from tensorflow import lite"
   ]
  },
  {
   "cell_type": "markdown",
   "id": "ffda1868",
   "metadata": {},
   "source": [
    "## Data Preprocessing"
   ]
  },
  {
   "cell_type": "markdown",
   "id": "3d5d6fb5",
   "metadata": {},
   "source": [
    "    ### Preprocessing the training & testing dataset"
   ]
  },
  {
   "cell_type": "code",
   "execution_count": 20,
   "id": "aa702fd7",
   "metadata": {},
   "outputs": [
    {
     "name": "stdout",
     "output_type": "stream",
     "text": [
      "Found 1234 images belonging to 2 classes.\n",
      "Found 218 images belonging to 2 classes.\n"
     ]
    }
   ],
   "source": [
    "train_datagen = ImageDataGenerator(\n",
    "    rescale = 1./255,\n",
    "    shear_range = 0.2,\n",
    "    zoom_range=[0.2,1.0],\n",
    "    height_shift_range=0.5,\n",
    "    rotation_range=90,\n",
    "    brightness_range=[0.2,1.0],\n",
    "    \n",
    "    horizontal_flip = True\n",
    ")\n",
    "\n",
    "train_set = train_datagen.flow_from_directory(\n",
    "    './dataset_new/train/eyes',\n",
    "    target_size = (64,64),\n",
    "    batch_size = 32,\n",
    "    class_mode = 'binary'\n",
    ")\n",
    "\n",
    "test_datagen = ImageDataGenerator(\n",
    "    rescale = 1./255\n",
    ")\n",
    "\n",
    "test_set = test_datagen.flow_from_directory(\n",
    "    './dataset_new/test/eyes',\n",
    "    target_size = (64,64),\n",
    "    batch_size = 32,\n",
    "    class_mode = 'binary'\n",
    ")"
   ]
  },
  {
   "cell_type": "code",
   "execution_count": 21,
   "id": "7125a1e8",
   "metadata": {},
   "outputs": [
    {
     "name": "stdout",
     "output_type": "stream",
     "text": [
      "{'Closed': 0, 'Open': 1}\n"
     ]
    }
   ],
   "source": [
    "print(train_set.class_indices)"
   ]
  },
  {
   "cell_type": "markdown",
   "id": "8c6b085e",
   "metadata": {},
   "source": [
    "## Building the CNN"
   ]
  },
  {
   "cell_type": "markdown",
   "id": "47fdd799",
   "metadata": {},
   "source": [
    "### Initializing the CNN"
   ]
  },
  {
   "cell_type": "code",
   "execution_count": 22,
   "id": "189beeea",
   "metadata": {},
   "outputs": [],
   "source": [
    "cnn = tf.keras.models.Sequential()"
   ]
  },
  {
   "cell_type": "markdown",
   "id": "ae65a18e",
   "metadata": {},
   "source": [
    "### Convolution Operation"
   ]
  },
  {
   "cell_type": "code",
   "execution_count": 23,
   "id": "807f4e97",
   "metadata": {},
   "outputs": [],
   "source": [
    "cnn.add(tf.keras.layers.Conv2D(filters = 32,kernel_size=3,activation = 'relu', input_shape = [64,64,3]))"
   ]
  },
  {
   "cell_type": "markdown",
   "id": "175f5054",
   "metadata": {},
   "source": [
    "### Pooling"
   ]
  },
  {
   "cell_type": "code",
   "execution_count": 24,
   "id": "a2a792b9",
   "metadata": {},
   "outputs": [],
   "source": [
    "cnn.add(tf.keras.layers.MaxPool2D(pool_size = 2, strides = 2))"
   ]
  },
  {
   "cell_type": "markdown",
   "id": "5203b2a3",
   "metadata": {},
   "source": [
    "### Adding a second convolution layer"
   ]
  },
  {
   "cell_type": "code",
   "execution_count": 25,
   "id": "be5fc041",
   "metadata": {},
   "outputs": [],
   "source": [
    "cnn.add(tf.keras.layers.Conv2D(filters = 32, kernel_size = 3, activation = 'relu'))    \n",
    "cnn.add(tf.keras.layers.MaxPool2D(pool_size = 2, strides = 2))"
   ]
  },
  {
   "cell_type": "markdown",
   "id": "c1625788",
   "metadata": {},
   "source": [
    "### Flattening"
   ]
  },
  {
   "cell_type": "code",
   "execution_count": 26,
   "id": "fc6dcfca",
   "metadata": {},
   "outputs": [],
   "source": [
    "cnn.add(tf.keras.layers.Flatten())"
   ]
  },
  {
   "cell_type": "markdown",
   "id": "5894e22a",
   "metadata": {},
   "source": [
    "### Full Connection"
   ]
  },
  {
   "cell_type": "code",
   "execution_count": 27,
   "id": "f842ba0c",
   "metadata": {},
   "outputs": [],
   "source": [
    "cnn.add(tf.keras.layers.Dense(units = 128, activation = 'relu'))"
   ]
  },
  {
   "cell_type": "markdown",
   "id": "2c2b2abe",
   "metadata": {},
   "source": [
    "### Output Layer"
   ]
  },
  {
   "cell_type": "code",
   "execution_count": 28,
   "id": "186cf8a1",
   "metadata": {},
   "outputs": [],
   "source": [
    "cnn.add(tf.keras.layers.Dense(units = 1, activation = 'sigmoid'))"
   ]
  },
  {
   "cell_type": "markdown",
   "id": "14608ef1",
   "metadata": {},
   "source": [
    "### Training the CNN"
   ]
  },
  {
   "cell_type": "code",
   "execution_count": 29,
   "id": "9fb18a3d",
   "metadata": {},
   "outputs": [
    {
     "name": "stdout",
     "output_type": "stream",
     "text": [
      "Epoch 1/25\n",
      "39/39 [==============================] - 11s 249ms/step - loss: 0.6710 - accuracy: 0.6062 - val_loss: 0.7008 - val_accuracy: 0.5000\n",
      "Epoch 2/25\n",
      "39/39 [==============================] - 7s 186ms/step - loss: 0.6163 - accuracy: 0.6645 - val_loss: 0.7986 - val_accuracy: 0.5138\n",
      "Epoch 3/25\n",
      "39/39 [==============================] - 8s 201ms/step - loss: 0.5700 - accuracy: 0.7099 - val_loss: 0.8134 - val_accuracy: 0.6009\n",
      "Epoch 4/25\n",
      "39/39 [==============================] - 8s 204ms/step - loss: 0.5256 - accuracy: 0.7318 - val_loss: 0.5004 - val_accuracy: 0.8119\n",
      "Epoch 5/25\n",
      "39/39 [==============================] - 8s 216ms/step - loss: 0.5505 - accuracy: 0.7245 - val_loss: 0.6439 - val_accuracy: 0.6927\n",
      "Epoch 6/25\n",
      "39/39 [==============================] - 11s 279ms/step - loss: 0.5101 - accuracy: 0.7553 - val_loss: 0.7693 - val_accuracy: 0.6422\n",
      "Epoch 7/25\n",
      "39/39 [==============================] - 9s 240ms/step - loss: 0.5132 - accuracy: 0.7488 - val_loss: 0.6548 - val_accuracy: 0.7110\n",
      "Epoch 8/25\n",
      "39/39 [==============================] - 10s 245ms/step - loss: 0.4874 - accuracy: 0.7788 - val_loss: 0.9869 - val_accuracy: 0.6330\n",
      "Epoch 9/25\n",
      "39/39 [==============================] - 10s 271ms/step - loss: 0.5009 - accuracy: 0.7682 - val_loss: 0.5466 - val_accuracy: 0.8028\n",
      "Epoch 10/25\n",
      "39/39 [==============================] - 11s 272ms/step - loss: 0.5084 - accuracy: 0.7536 - val_loss: 0.5692 - val_accuracy: 0.7661\n",
      "Epoch 11/25\n",
      "39/39 [==============================] - 12s 307ms/step - loss: 0.5028 - accuracy: 0.7585 - val_loss: 0.5610 - val_accuracy: 0.7661\n",
      "Epoch 12/25\n",
      "39/39 [==============================] - 11s 274ms/step - loss: 0.4851 - accuracy: 0.7666 - val_loss: 0.4503 - val_accuracy: 0.7936\n",
      "Epoch 13/25\n",
      "39/39 [==============================] - 9s 243ms/step - loss: 0.4741 - accuracy: 0.7820 - val_loss: 0.4453 - val_accuracy: 0.7982\n",
      "Epoch 14/25\n",
      "39/39 [==============================] - 8s 202ms/step - loss: 0.4444 - accuracy: 0.7909 - val_loss: 0.5543 - val_accuracy: 0.7752\n",
      "Epoch 15/25\n",
      "39/39 [==============================] - 8s 206ms/step - loss: 0.4587 - accuracy: 0.7820 - val_loss: 0.4872 - val_accuracy: 0.8028\n",
      "Epoch 16/25\n",
      "39/39 [==============================] - 8s 214ms/step - loss: 0.4542 - accuracy: 0.7958 - val_loss: 0.4562 - val_accuracy: 0.8073\n",
      "Epoch 17/25\n",
      "39/39 [==============================] - 8s 217ms/step - loss: 0.4417 - accuracy: 0.8071 - val_loss: 0.4087 - val_accuracy: 0.8073\n",
      "Epoch 18/25\n",
      "39/39 [==============================] - 8s 196ms/step - loss: 0.4341 - accuracy: 0.8006 - val_loss: 0.4025 - val_accuracy: 0.8165\n",
      "Epoch 19/25\n",
      "39/39 [==============================] - 8s 208ms/step - loss: 0.4549 - accuracy: 0.7917 - val_loss: 0.4053 - val_accuracy: 0.8165\n",
      "Epoch 20/25\n",
      "39/39 [==============================] - 7s 191ms/step - loss: 0.4408 - accuracy: 0.7950 - val_loss: 0.4133 - val_accuracy: 0.7936\n",
      "Epoch 21/25\n",
      "39/39 [==============================] - 7s 190ms/step - loss: 0.4453 - accuracy: 0.7966 - val_loss: 0.4347 - val_accuracy: 0.8257\n",
      "Epoch 22/25\n",
      "39/39 [==============================] - 9s 219ms/step - loss: 0.4229 - accuracy: 0.8128 - val_loss: 0.4166 - val_accuracy: 0.8303\n",
      "Epoch 23/25\n",
      "39/39 [==============================] - 9s 220ms/step - loss: 0.4222 - accuracy: 0.8071 - val_loss: 0.3629 - val_accuracy: 0.8303\n",
      "Epoch 24/25\n",
      "39/39 [==============================] - 8s 202ms/step - loss: 0.4014 - accuracy: 0.8201 - val_loss: 0.4581 - val_accuracy: 0.8073\n",
      "Epoch 25/25\n",
      "39/39 [==============================] - 8s 214ms/step - loss: 0.4215 - accuracy: 0.8241 - val_loss: 0.4025 - val_accuracy: 0.8394\n"
     ]
    },
    {
     "data": {
      "text/plain": [
       "<keras.callbacks.History at 0x20cfe7764f0>"
      ]
     },
     "execution_count": 29,
     "metadata": {},
     "output_type": "execute_result"
    }
   ],
   "source": [
    "cnn.compile(optimizer = 'adam',loss = 'binary_crossentropy', metrics = ['accuracy'])\n",
    "cnn.fit(x = train_set, validation_data = test_set, epochs = 25)"
   ]
  },
  {
   "cell_type": "code",
   "execution_count": 30,
   "id": "suited-morning",
   "metadata": {},
   "outputs": [
    {
     "name": "stdout",
     "output_type": "stream",
     "text": [
      "7/7 - 1s - loss: 0.4025 - accuracy: 0.8394 - 549ms/epoch - 78ms/step\n"
     ]
    }
   ],
   "source": [
    "test_labels = ['Closed','Open']\n",
    "test_loss, test_acc = cnn.evaluate(test_set, verbose=2)"
   ]
  },
  {
   "cell_type": "code",
   "execution_count": 31,
   "id": "continental-wallpaper",
   "metadata": {},
   "outputs": [
    {
     "name": "stdout",
     "output_type": "stream",
     "text": [
      "0.8394495248794556\n",
      "0.4025290310382843\n"
     ]
    }
   ],
   "source": [
    "print(test_acc)\n",
    "print(test_loss)"
   ]
  },
  {
   "cell_type": "markdown",
   "id": "37de5a15",
   "metadata": {},
   "source": [
    "### Saving CNN model"
   ]
  },
  {
   "cell_type": "code",
   "execution_count": 32,
   "id": "a75ba447",
   "metadata": {},
   "outputs": [
    {
     "name": "stdout",
     "output_type": "stream",
     "text": [
      "INFO:tensorflow:Assets written to: C:\\Users\\JATIND~1\\AppData\\Local\\Temp\\tmpht0iu73m\\assets\n"
     ]
    },
    {
     "name": "stderr",
     "output_type": "stream",
     "text": [
      "INFO:tensorflow:Assets written to: C:\\Users\\JATIND~1\\AppData\\Local\\Temp\\tmpht0iu73m\\assets\n",
      "WARNING:absl:Buffer deduplication procedure will be skipped when flatbuffer library is not properly loaded\n"
     ]
    },
    {
     "name": "stdout",
     "output_type": "stream",
     "text": [
      "Saved model to disk\n"
     ]
    }
   ],
   "source": [
    "# serialize model to JSON\n",
    "model_json = cnn.to_json()\n",
    "with open(\"model.json\", \"w\") as json_file:\n",
    "    json_file.write(model_json)\n",
    "# serialize weights to HDF5\n",
    "cnn.save_weights(\"model.h5\")\n",
    "\n",
    "converter = tf.lite.TFLiteConverter.from_keras_model(cnn)\n",
    "tfmodel = converter.convert()\n",
    "open(\"linear.tflite\",\"wb\").write(tfmodel)\n",
    "\n",
    "print(\"Saved model to disk\")"
   ]
  },
  {
   "cell_type": "code",
   "execution_count": 33,
   "id": "competent-garage",
   "metadata": {},
   "outputs": [],
   "source": [
    "path = \"./dataset_new/train/\""
   ]
  }
 ],
 "metadata": {
  "kernelspec": {
   "display_name": "Python 3",
   "language": "python",
   "name": "python3"
  },
  "language_info": {
   "codemirror_mode": {
    "name": "ipython",
    "version": 3
   },
   "file_extension": ".py",
   "mimetype": "text/x-python",
   "name": "python",
   "nbconvert_exporter": "python",
   "pygments_lexer": "ipython3",
   "version": "3.9.12"
  }
 },
 "nbformat": 4,
 "nbformat_minor": 5
}
